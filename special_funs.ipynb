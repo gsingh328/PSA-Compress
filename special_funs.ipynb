{
 "cells": [
  {
   "cell_type": "code",
   "execution_count": 2,
   "metadata": {},
   "outputs": [],
   "source": [
    "%matplotlib widget"
   ]
  },
  {
   "cell_type": "code",
   "execution_count": 3,
   "metadata": {},
   "outputs": [],
   "source": [
    "import numpy as np\n",
    "import matplotlib.pyplot as plt\n",
    "import scipy"
   ]
  },
  {
   "cell_type": "code",
   "execution_count": 4,
   "metadata": {},
   "outputs": [],
   "source": [
    "x0 = np.random.rand(2**12) * 2 - 1\n",
    "x1 = np.random.rand(2**12) * 2 - 1"
   ]
  },
  {
   "cell_type": "code",
   "execution_count": 5,
   "metadata": {},
   "outputs": [],
   "source": [
    "def Feynman(a, b, eqn=1):\n",
    "    if eqn == 1:\n",
    "        return 1 + a * np.sin(b)\n",
    "    if eqn == 2:\n",
    "        return (a + b) / (1 + (a * b))\n",
    "    if eqn == 3:\n",
    "        return b * np.exp(-a)\n",
    "    if eqn == 4:\n",
    "        return np.cos(a) + b*(np.cos(a)**2)\n",
    "    if eqn == 5:\n",
    "        return np.sqrt(1 + a**2 + b**2)\n",
    "\n",
    "    raise NotImplementedError"
   ]
  },
  {
   "cell_type": "code",
   "execution_count": 9,
   "metadata": {},
   "outputs": [],
   "source": [
    "x = np.linspace(-1, 1, 10)\n",
    "y = np.linspace(-1, 1, 10)\n",
    "x, y = np.meshgrid(x, y)\n",
    "\n",
    "# Call helper function to compute z values\n",
    "z = Feynman(x, y, 1)\n",
    "\n",
    "# Create a 3D plot\n",
    "fig = plt.figure()\n",
    "ax = fig.add_subplot(111, projection='3d')\n",
    "\n",
    "# Plot the surface\n",
    "ax.plot_surface(x, y, z, cmap='viridis')\n",
    "\n",
    "# Add labels\n",
    "ax.set_xlabel('X')\n",
    "ax.set_ylabel('Y')\n",
    "ax.set_zlabel('Z')\n",
    "\n",
    "# Show the plot\n",
    "plt.show()"
   ]
  },
  {
   "cell_type": "code",
   "execution_count": 5,
   "metadata": {},
   "outputs": [],
   "source": [
    "# y = scipy.special.ellipj(x0,x1)\n",
    "# y = scipy.special.ellipkinc(x0,x1)\n",
    "# y = scipy.special.lpmv(2, x0,x1)\n",
    "y = Feynman(x0, x1, 4)\n",
    "np.isnan(y).sum()"
   ]
  },
  {
   "cell_type": "code",
   "execution_count": 6,
   "metadata": {},
   "outputs": [],
   "source": [
    "x2 = np.random.rand(2**12) * 2 - 1\n",
    "# y = x0 + x1 * x2\n",
    "y = np.sqrt(1 + x0**2 - (2 * x0 * np.cos(x1 - x2)))\n",
    "# y = x0 * (1 + x1 * np.cos(x2))"
   ]
  },
  {
   "cell_type": "code",
   "execution_count": 7,
   "metadata": {},
   "outputs": [],
   "source": [
    "print(y.min(), y.max(), y.mean(), y.std())"
   ]
  },
  {
   "cell_type": "code",
   "execution_count": 8,
   "metadata": {},
   "outputs": [],
   "source": [
    "plt.clf()\n",
    "ax = plt.axes(projection='3d')\n",
    "ax.scatter3D(x0, x1, y.reshape(-1,1), s=3)\n",
    "plt.show()"
   ]
  }
 ],
 "metadata": {
  "kernelspec": {
   "display_name": "torchcuda",
   "language": "python",
   "name": "python3"
  },
  "language_info": {
   "codemirror_mode": {
    "name": "ipython",
    "version": 3
   },
   "file_extension": ".py",
   "mimetype": "text/x-python",
   "name": "python",
   "nbconvert_exporter": "python",
   "pygments_lexer": "ipython3",
   "version": "3.11.9"
  }
 },
 "nbformat": 4,
 "nbformat_minor": 2
}
